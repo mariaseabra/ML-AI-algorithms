{
  "cells": [
    {
      "attachments": {},
      "cell_type": "markdown",
      "metadata": {},
      "source": [
        "Convolutional Neural Networks\n",
        "======\n",
        "\n",
        "Convolutional neural networks (CNNs) are a class of deep neural networks, most commonly used in computer vision applications.\n",
        "\n",
        "Convolutional refers the network pre-processing data for you - traditionally this pre-processing was performed by data scientists. The neural network can learn how to do pre-processing *itself* by applying filters for things such as edge detection."
      ]
    },
    {
      "attachments": {},
      "cell_type": "markdown",
      "metadata": {},
      "source": [
        "Step 1\n",
        "-----\n",
        "\n",
        "In this exercise we will train a CNN to recognise handwritten digits, using the MNIST digit dataset.\n",
        "\n",
        "This is a very common exercise and data set to learn from.\n",
        "\n",
        "Let's start by loading our dataset and setting up our train, validation, and test sets.\n",
        "\n",
        "#### Run the code below to import our required libraries and set up the graphing features.\n",
        "\n",
        "Make sure that you note the layers that were imported for tensorflow as you will need them latter to create the model ! \n"
      ]
    },
    {
      "cell_type": "code",
      "execution_count": 31,
      "metadata": {
        "trusted": true
      },
      "outputs": [
        {
          "name": "stdout",
          "output_type": "stream",
          "text": [
            "keras using tensorflow backend\n"
          ]
        }
      ],
      "source": [
        "# Run this!\n",
        "import warnings\n",
        "warnings.filterwarnings(\"ignore\")\n",
        "import tensorflow as tf\n",
        "import numpy as np\n",
        "from tensorflow import keras\n",
        "from tensorflow.keras.models import Sequential\n",
        "from tensorflow.keras.layers import Conv2D, Dense, Dropout, Flatten, MaxPooling2D\n",
        "print('keras using %s backend'%keras.backend.backend())\n",
        "import matplotlib.pyplot as graph\n",
        "%matplotlib inline\n",
        "graph.rcParams['figure.figsize'] = (15,5)\n",
        "graph.rcParams[\"font.family\"] = 'DejaVu Sans'\n",
        "graph.rcParams[\"font.size\"] = '12'\n",
        "graph.rcParams['image.cmap'] = 'rainbow'"
      ]
    },
    {
      "attachments": {},
      "cell_type": "markdown",
      "metadata": {},
      "source": [
        "#### Here we will add the code for split into train , valid and test"
      ]
    },
    {
      "cell_type": "code",
      "execution_count": 32,
      "metadata": {},
      "outputs": [],
      "source": [
        "import os\n",
        "import ssl\n",
        "import certifi\n",
        "import tensorflow as tf\n",
        "\n",
        "os.environ['SSL_CERT_FILE'] = certifi.where()"
      ]
    },
    {
      "cell_type": "code",
      "execution_count": 33,
      "metadata": {},
      "outputs": [],
      "source": [
        "import ssl\n",
        "ssl._create_default_https_context = ssl._create_unverified_context\n",
        "\n",
        "from tensorflow.keras.datasets import mnist"
      ]
    },
    {
      "cell_type": "code",
      "execution_count": 34,
      "metadata": {
        "trusted": true
      },
      "outputs": [
        {
          "name": "stdout",
          "output_type": "stream",
          "text": [
            "train_X: (6400, 28, 28), train_Y: (6400,)\n",
            "valid_X: (1600, 28, 28), valid_Y: (1600,)\n",
            "test_X: (2000, 28, 28), test_Y: (2000,)\n"
          ]
        }
      ],
      "source": [
        "# Here we import the dataset, and split it into the training, validation, and test sets.\n",
        "from tensorflow.keras.datasets import mnist\n",
        "\n",
        "# This is our training data, with 6400 samples.\n",
        "###\n",
        "###\n",
        "train_X = mnist.load_data()[0][0][:6400].astype('float32')\n",
        "train_Y = mnist.load_data()[0][1][:6400]\n",
        "###\n",
        "\n",
        "# This is our validation data, with 1600 samples.\n",
        "###\n",
        "###\n",
        "valid_X = mnist.load_data()[1][0][:1600].astype('float32')\n",
        "valid_Y = mnist.load_data()[1][1][:1600]\n",
        "###\n",
        "\n",
        "# This is our test data, with 2000 samples.\n",
        "###\n",
        "###\n",
        "test_X = mnist.load_data()[1][0][-2000:].astype('float32')\n",
        "test_Y = mnist.load_data()[1][1][-2000:]\n",
        "###\n",
        "\n",
        "print('train_X:', train_X.shape, end = '')\n",
        "print(', train_Y:', train_Y.shape)\n",
        "print('valid_X:', valid_X.shape, end = '')\n",
        "print(', valid_Y:', valid_Y.shape)\n",
        "print('test_X:', test_X.shape, end = '')\n",
        "print(', test_Y:', test_Y.shape)"
      ]
    },
    {
      "attachments": {},
      "cell_type": "markdown",
      "metadata": {},
      "source": [
        "So we have 6400 training samples, 1600 validation samples, and 2000 test samples.\n",
        "\n",
        "Each sample is an greyscale image - 28 pixels wide and 28 pixels high. Each pixel is really a number from 0 to 255 - 0 being fully black, 255 being fully white. When we graph the 28x28 numbers, we can see the image.\n",
        "\n",
        "Let's have a look at one of our samples.\n"
      ]
    },
    {
      "cell_type": "code",
      "execution_count": 35,
      "metadata": {
        "trusted": true
      },
      "outputs": [
        {
          "data": {
            "image/png": "[encoded data removed]",
            "text/plain": [
              "<Figure size 1500x500 with 1 Axes>"
            ]
          },
          "metadata": {},
          "output_type": "display_data"
        }
      ],
      "source": [
        "import matplotlib.pyplot as plt\n",
        "# For grayscale images, you need to specify cmap='gray'\n",
        "\n",
        "plt.imshow(train_X[0], cmap='gray', interpolation='nearest')\n",
        "plt.show()"
      ]
    },
    {
      "attachments": {},
      "cell_type": "markdown",
      "metadata": {},
      "source": [
        "Step 2\n",
        "---\n",
        "\n",
        "The neural network will use the 28x28 values of each image to predict what each image represents.\n",
        "\n",
        "As each value is between 0 and 255, we'll scale the values down by dividing by 255 (this makes it faster for the Neural Network to train).\n",
        "\n",
        "We need to reshape our data to get it working well with our neural network. \n"
      ]
    },
    {
      "cell_type": "code",
      "execution_count": 37,
      "metadata": {
        "trusted": true
      },
      "outputs": [
        {
          "name": "stdout",
          "output_type": "stream",
          "text": [
            "5\n"
          ]
        }
      ],
      "source": [
        "# First off, let's reshape our X sets so that they fit the convolutional layers.\n",
        "\n",
        "# This gets the image dimensions - 28\n",
        "dim = train_X[0].shape[0]\n",
        "\n",
        "###\n",
        "###\n",
        "train_X = train_X.reshape(train_X.shape[0], dim, dim, 1)\n",
        "valid_X = valid_X.reshape(valid_X.shape[0], dim, dim, 1)\n",
        "test_X = test_X.reshape(test_X.shape[0], dim, dim, 1)\n",
        "###\n",
        "\n",
        "# Next up - feature scaling.\n",
        "# We scale the values so they are between 0 and 1, instead of 0 and 255.\n",
        "\n",
        "###\n",
        "###\n",
        "#SCALE ACCORDING TO DESCRIPTION GIVEN BEFORE \n",
        "train_X = train_X/255\n",
        "valid_X = valid_X/255\n",
        "test_X = test_X/255\n",
        "###\n",
        "\n",
        "\n",
        "# Now we print the label for the first example\n",
        "#PRINT THE VALUE OF Y[0]\n",
        "print(train_Y[0])"
      ]
    },
    {
      "attachments": {},
      "cell_type": "markdown",
      "metadata": {},
      "source": [
        "Expected output:  \n",
        "`5`\n",
        "\n",
        "The label is a number - the number we see when we view the image.\n",
        "\n",
        "We need represent this number as a one-hot vector, so the neural network knows it is a category.\n",
        "\n",
        "Keras can convert these labels into one-hot vectors easily with the function - `to_categorical`\n",
        "\n"
      ]
    },
    {
      "cell_type": "code",
      "execution_count": 38,
      "metadata": {
        "trusted": true
      },
      "outputs": [
        {
          "name": "stdout",
          "output_type": "stream",
          "text": [
            "[0. 0. 0. 0. 0. 1. 0. 0. 0. 0.]\n"
          ]
        }
      ],
      "source": [
        "from tensorflow.keras.utils import to_categorical\n",
        "\n",
        "###\n",
        "### CHOOSE THE CORRECT VALUE TO CATEGORIZE THE DATA GIVEN THE CLASSIFICATION PROBLEM WE HAVE\n",
        "train_Y = keras.utils.to_categorical(train_Y, 10)\n",
        "valid_Y = keras.utils.to_categorical(valid_Y, 10)\n",
        "test_Y = keras.utils.to_categorical(test_Y, 10)\n",
        "###\n",
        "\n",
        "# 10 being the number of categories (numbers 0 to 9)\n",
        "\n",
        "print(train_Y[0])"
      ]
    },
    {
      "attachments": {},
      "cell_type": "markdown",
      "metadata": {},
      "source": [
        "Expected output:  \n",
        "`[0. 0. 0. 0. 0. 1. 0. 0. 0. 0.]`\n",
        "\n",
        "Step 3\n",
        "-----\n",
        "\n",
        "All ready! Time to build another neural network.\n",
        "Starting with Sequential()\n"
      ]
    },
    {
      "cell_type": "code",
      "execution_count": 39,
      "metadata": {
        "trusted": true
      },
      "outputs": [],
      "source": [
        "# Sets a randomisation seed for replicatability.\n",
        "np.random.seed(6)\n",
        "\n",
        "###\n",
        "### ADD THE SEQUENTIAL LAYER\n",
        "model = Sequential()\n",
        "###"
      ]
    },
    {
      "attachments": {},
      "cell_type": "markdown",
      "metadata": {},
      "source": [
        "The __Convolutional__ in Convolutional Neural Networks refers the pre-processing the network can do itself.\n",
        "\n"
      ]
    },
    {
      "cell_type": "code",
      "execution_count": 41,
      "metadata": {
        "trusted": true
      },
      "outputs": [],
      "source": [
        "###\n",
        "### ADD A CONVOLUTIONAL LAYER WITH 28 FILTERS, KERNEL SIZE OF 3X3, RELU ACTIVATION FUNCTION AND INPUT SHAPE OF 28X28X1\n",
        "model.add(Conv2D(28, kernel_size = (3, 3), activation = 'relu', input_shape = (dim, dim, 1)))\n",
        "#ADD A CONVOLUTIONAL LAYER WITH 56 FILTERS, KERNEL SIZE OF 3X3 AND RELU ACTIVATION FUNCTION\n",
        "model.add(Conv2D(56, (3, 3), activation = 'relu'))\n",
        "###"
      ]
    },
    {
      "attachments": {},
      "cell_type": "markdown",
      "metadata": {},
      "source": [
        "Next up we'll:\n",
        "* Add pooling layers.\n",
        "* Apply dropout.\n",
        "* Flatten the data to a vector (the output of step 2 is a vector).\n",
        "\n"
      ]
    },
    {
      "cell_type": "code",
      "execution_count": 42,
      "metadata": {
        "trusted": true
      },
      "outputs": [],
      "source": [
        "# Pooling layers help speed up training time and make features it detects more robust.\n",
        "# They act by downsampling the data - reducing the data size and complexity.\n",
        "\n",
        "###\n",
        "###\n",
        "model.add(MaxPooling2D(pool_size = (2, 2)))\n",
        "###\n",
        "\n",
        "# Dropout is a technique to help prevent overfitting\n",
        "# It makes nodes 'dropout' - turning them off randomly.\n",
        "\n",
        "###\n",
        "### ADD A DROPOUT LAYER WITH 12.5% OF DROPOUT\n",
        "model.add(Dropout(0.125))\n",
        "###\n",
        "\n",
        "\n",
        "###\n",
        "###\n",
        "model.add(Flatten())\n",
        "###"
      ]
    },
    {
      "attachments": {},
      "cell_type": "markdown",
      "metadata": {},
      "source": [
        "In the end we add a Dense layer with softmax activation with the value 10 and run the code."
      ]
    },
    {
      "cell_type": "code",
      "execution_count": 43,
      "metadata": {
        "trusted": true
      },
      "outputs": [],
      "source": [
        "# Dense layers perform classification - we have extracted the features with the convolutional pre-processing\n",
        "model.add(Dense(128, activation='relu'))\n",
        "\n",
        "# More dropout!\n",
        "model.add(Dropout(0.25))\n",
        "\n",
        "# Next is our output layer\n",
        "# Softmax outputs the probability for each category\n",
        "###\n",
        "### ADD A DENSE LAYER WITH 10 OUTPUTS AND SOFTMAX ACTIVATION FUNCTION\n",
        "model.add(Dense(10, activation='softmax'))\n",
        "###\n",
        "\n",
        "# And finally, we compile.\n",
        "model.compile(loss='categorical_crossentropy', optimizer='Adamax', metrics=['accuracy'])"
      ]
    },
    {
      "attachments": {},
      "cell_type": "markdown",
      "metadata": {},
      "source": [
        "Step 4"
      ]
    },
    {
      "cell_type": "code",
      "execution_count": 44,
      "metadata": {
        "trusted": true
      },
      "outputs": [
        {
          "name": "stdout",
          "output_type": "stream",
          "text": [
            "Epoch 1/12\n",
            "\u001b[1m50/50\u001b[0m \u001b[32m━━━━━━━━━━━━━━━━━━━━\u001b[0m\u001b[37m\u001b[0m \u001b[1m2s\u001b[0m 42ms/step - accuracy: 0.1426 - loss: 2.2993 - val_accuracy: 0.2825 - val_loss: 2.2762\n",
            "Epoch 2/12\n",
            "\u001b[1m50/50\u001b[0m \u001b[32m━━━━━━━━━━━━━━━━━━━━\u001b[0m\u001b[37m\u001b[0m \u001b[1m2s\u001b[0m 38ms/step - accuracy: 0.3542 - loss: 2.2370 - val_accuracy: 0.3569 - val_loss: 2.0745\n",
            "Epoch 3/12\n",
            "\u001b[1m50/50\u001b[0m \u001b[32m━━━━━━━━━━━━━━━━━━━━\u001b[0m\u001b[37m\u001b[0m \u001b[1m2s\u001b[0m 38ms/step - accuracy: 0.4886 - loss: 1.9103 - val_accuracy: 0.5794 - val_loss: 1.5198\n",
            "Epoch 4/12\n",
            "\u001b[1m50/50\u001b[0m \u001b[32m━━━━━━━━━━━━━━━━━━━━\u001b[0m\u001b[37m\u001b[0m \u001b[1m2s\u001b[0m 38ms/step - accuracy: 0.6548 - loss: 1.2931 - val_accuracy: 0.7025 - val_loss: 1.0035\n",
            "Epoch 5/12\n",
            "\u001b[1m50/50\u001b[0m \u001b[32m━━━━━━━━━━━━━━━━━━━━\u001b[0m\u001b[37m\u001b[0m \u001b[1m2s\u001b[0m 40ms/step - accuracy: 0.7418 - loss: 0.8698 - val_accuracy: 0.7688 - val_loss: 0.7545\n",
            "Epoch 6/12\n",
            "\u001b[1m50/50\u001b[0m \u001b[32m━━━━━━━━━━━━━━━━━━━━\u001b[0m\u001b[37m\u001b[0m \u001b[1m2s\u001b[0m 39ms/step - accuracy: 0.8089 - loss: 0.6542 - val_accuracy: 0.8119 - val_loss: 0.6275\n",
            "Epoch 7/12\n",
            "\u001b[1m50/50\u001b[0m \u001b[32m━━━━━━━━━━━━━━━━━━━━\u001b[0m\u001b[37m\u001b[0m \u001b[1m2s\u001b[0m 41ms/step - accuracy: 0.8394 - loss: 0.5378 - val_accuracy: 0.8394 - val_loss: 0.5679\n",
            "Epoch 8/12\n",
            "\u001b[1m50/50\u001b[0m \u001b[32m━━━━━━━━━━━━━━━━━━━━\u001b[0m\u001b[37m\u001b[0m \u001b[1m2s\u001b[0m 39ms/step - accuracy: 0.8376 - loss: 0.5382 - val_accuracy: 0.8369 - val_loss: 0.5242\n",
            "Epoch 9/12\n",
            "\u001b[1m50/50\u001b[0m \u001b[32m━━━━━━━━━━━━━━━━━━━━\u001b[0m\u001b[37m\u001b[0m \u001b[1m2s\u001b[0m 39ms/step - accuracy: 0.8643 - loss: 0.4641 - val_accuracy: 0.8475 - val_loss: 0.4895\n",
            "Epoch 10/12\n",
            "\u001b[1m50/50\u001b[0m \u001b[32m━━━━━━━━━━━━━━━━━━━━\u001b[0m\u001b[37m\u001b[0m \u001b[1m2s\u001b[0m 39ms/step - accuracy: 0.8688 - loss: 0.4450 - val_accuracy: 0.8431 - val_loss: 0.4850\n",
            "Epoch 11/12\n",
            "\u001b[1m50/50\u001b[0m \u001b[32m━━━━━━━━━━━━━━━━━━━━\u001b[0m\u001b[37m\u001b[0m \u001b[1m2s\u001b[0m 39ms/step - accuracy: 0.8888 - loss: 0.3855 - val_accuracy: 0.8512 - val_loss: 0.4632\n",
            "Epoch 12/12\n",
            "\u001b[1m50/50\u001b[0m \u001b[32m━━━━━━━━━━━━━━━━━━━━\u001b[0m\u001b[37m\u001b[0m \u001b[1m2s\u001b[0m 40ms/step - accuracy: 0.8831 - loss: 0.3875 - val_accuracy: 0.8700 - val_loss: 0.4320\n",
            "Test Set Evaluation: loss = 0.256899, accuracy = 93.00\n"
          ]
        },
        {
          "data": {
            "image/png": "[encoded data removed]",
            "text/plain": [
              "<Figure size 1500x500 with 1 Axes>"
            ]
          },
          "metadata": {},
          "output_type": "display_data"
        }
      ],
      "source": [
        "###\n",
        "###\n",
        "training_stats = model.fit(train_X, train_Y, batch_size = 128, epochs = 12, verbose = 1, validation_data = (valid_X, valid_Y))\n",
        "###\n",
        "\n",
        "###\n",
        "### EVALUATE THE MODEL WITH THE TEST SET INCLUDING VERBOSE OUTPUT\n",
        "evaluation = model.evaluate(test_X, test_Y, verbose=0)\n",
        "###\n",
        "\n",
        "print('Test Set Evaluation: loss = %0.6f, accuracy = %0.2f' %(evaluation[0], 100 * evaluation[1]))\n",
        "\n",
        "# We can plot our training statistics to see how it developed over time\n",
        "accuracy, = graph.plot(training_stats.history['accuracy'], label = 'Accuracy')\n",
        "training_loss, = graph.plot(training_stats.history['loss'], label = 'Training Loss')\n",
        "graph.legend(handles = [accuracy, training_loss])\n",
        "loss = np.array(training_stats.history['loss'])\n",
        "xp = np.linspace(0,loss.shape[0],10 * loss.shape[0])\n",
        "graph.plot(xp, np.full(xp.shape, 1), c = 'k', linestyle = ':', alpha = 0.5)\n",
        "graph.plot(xp, np.full(xp.shape, 0), c = 'k', linestyle = ':', alpha = 0.5)\n",
        "graph.show()"
      ]
    },
    {
      "attachments": {},
      "cell_type": "markdown",
      "metadata": {},
      "source": [
        "## Step 5\n",
        "\n",
        "Let's test it on a new sample that it hasn't seen, and see how it classifies it!\n"
      ]
    },
    {
      "cell_type": "code",
      "execution_count": 66,
      "metadata": {
        "trusted": true
      },
      "outputs": [
        {
          "data": {
            "image/png": "[encoded data removed]",
            "text/plain": [
              "<Figure size 1500x500 with 1 Axes>"
            ]
          },
          "metadata": {},
          "output_type": "display_data"
        },
        {
          "name": "stdout",
          "output_type": "stream",
          "text": [
            "\u001b[1m1/1\u001b[0m \u001b[32m━━━━━━━━━━━━━━━━━━━━\u001b[0m\u001b[37m\u001b[0m \u001b[1m0s\u001b[0m 9ms/step\n",
            "prediction: 8\n",
            "real value 8\n"
          ]
        }
      ],
      "source": [
        "###\n",
        "# REPLACE THE <addNumber> WITH ANY NUMBER BETWEEN 0 AND 1999\n",
        "###\n",
        "test_sample_random = 15\n",
        "\n",
        "sample = test_X[test_sample_random].reshape(dim, dim)\n",
        "###\n",
        "\n",
        "graph.imshow(sample, cmap = 'gray', interpolation = 'nearest')\n",
        "graph.show()\n",
        "\n",
        "prediction = model.predict(sample.reshape(1, dim, dim, 1))\n",
        "\n",
        "### TEST THE MODEL WITH THE TEST SAMPLE RANDOMLY CHOSEN AND COMPARE WITH REAL VALUE\n",
        "print('prediction: %i' %(np.argmax(prediction)))\n",
        "print('real value', np.argmax(test_Y[test_sample_random]))"
      ]
    },
    {
      "attachments": {},
      "cell_type": "markdown",
      "metadata": {},
      "source": [
        "How is the prediction? Does it look right?"
      ]
    },
    {
      "attachments": {},
      "cell_type": "markdown",
      "metadata": {},
      "source": [
        "Conclusion\n",
        "------\n",
        "\n",
        "Congratulations! We've built a convolutional neural network that is able to recognise handwritten digits with very high accuracy.\n",
        "\n",
        "CNN's are very complex - you're not expected to understand everything (or most things) we covered here. They take a lot of time and practise to properly understand each aspect of them.\n",
        "\n",
        "Here we used:  \n",
        "* __Feature scaling__ - reducing the range of the values. This helps improve training time.\n",
        "* __Convolutional layers__ - network layers that pre-process the data for us. These apply filters to extract features for the neural network to analyze.\n",
        "* __Pooling layers__ - part of the Convolutional layers. They apply filters downsample the data - extracting features.\n",
        "* __Dropout__ - a regularization technique to help prevent overfitting.\n",
        "* __Dense layers__ - neural network layers which perform classification on the features extracted by the convolutional layers and downsampled by the pooling layers.\n",
        "* __Softmax__ - an activation function which outputs the probability for each category."
      ]
    }
  ],
  "metadata": {
    "kernelspec": {
      "display_name": "base",
      "language": "python",
      "name": "python3"
    },
    "language_info": {
      "codemirror_mode": {
        "name": "ipython",
        "version": 3
      },
      "file_extension": ".py",
      "mimetype": "text/x-python",
      "name": "python",
      "nbconvert_exporter": "python",
      "pygments_lexer": "ipython3",
      "version": "3.12.2"
    }
  },
  "nbformat": 4,
  "nbformat_minor": 2
}
